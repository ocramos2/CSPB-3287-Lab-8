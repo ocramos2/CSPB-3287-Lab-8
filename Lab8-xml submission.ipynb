{
 "cells": [
  {
   "cell_type": "markdown",
   "metadata": {},
   "source": [
    "# LAb-8- XML Queries In Python\n",
    "## CSCI 3287 <IMG SRC=\"https://www.colorado.edu/cs/profiles/express/themes/cuspirit/logo.png\" WIDTH=50 ALIGN=\"right\">"
   ]
  },
  {
   "cell_type": "markdown",
   "metadata": {},
   "source": [
    "If you haven't already reviewed the LXML tutorial and played with the LXML notebook, you're encouraged to do so.\n",
    "\n",
    "We're going to use to [lxml](https://lxml.de/) library to access and manipulate XML data. Some of this material is an adaptation of the [lxml tutorial](https://lxml.de/tutorial.html).\n",
    "\n",
    "The LXML library doesn't provide an XQuery interface, so we're going to use a tool called XQilla as a commandline interface.\n"
   ]
  },
  {
   "cell_type": "code",
   "execution_count": 1,
   "metadata": {},
   "outputs": [],
   "source": [
    "import lxml\n",
    "import lxml.etree as etree\n",
    "import lxml.html"
   ]
  },
  {
   "cell_type": "markdown",
   "metadata": {},
   "source": [
    "All of the problems (XPath, Xquery, XSLT) will use the **products** XML document below. I've created an LXML ElementTree for that document. I've also created a copy of the document in the file `/tmp/products.xml` that can be used for the XQuery exercise."
   ]
  },
  {
   "cell_type": "code",
   "execution_count": 2,
   "metadata": {},
   "outputs": [],
   "source": [
    "products_text = \"\"\"\n",
    "<Products>\n",
    "  <Maker name=\"A\">\n",
    "    <PC model=\"1001\" price=\"2114\">\n",
    "      <Speed>2.66</Speed>\n",
    "      <RAM>1024</RAM>\n",
    "      <HardDisk>250</HardDisk>\n",
    "    </PC>\n",
    "    <PC model=\"1002\" price=\"995\">\n",
    "      <Speed>2.10</Speed>\n",
    "      <RAM>512</RAM>\n",
    "      <HardDisk>250</HardDisk>\n",
    "    </PC>\n",
    "    <Laptop model=\"2004\" price=\"1150\">\n",
    "      <Speed>2.00</Speed>\n",
    "      <RAM>512</RAM>\n",
    "      <HardDisk>60</HardDisk>\n",
    "      <Screen>13.3</Screen>\n",
    "    </Laptop>\n",
    "    <Laptop model=\"2005\" price=\"2500\">\n",
    "      <Speed>2.16</Speed>\n",
    "      <RAM>1024</RAM>\n",
    "      <HardDisk>120</HardDisk>\n",
    "      <Screen>17.0</Screen>\n",
    "    </Laptop>\n",
    "  </Maker>\n",
    "  <Maker name=\"E\">\n",
    "    <PC model=\"1011\" price=\"959\">\n",
    "      <Speed>1.86</Speed>\n",
    "      <RAM>2048</RAM>\n",
    "      <HardDisk>160</HardDisk>\n",
    "    </PC>\n",
    "    <PC model=\"1012\" price=\"649\">\n",
    "      <Speed>2.80</Speed>\n",
    "      <RAM>1024</RAM>\n",
    "      <HardDisk>160</HardDisk>\n",
    "    </PC>\n",
    "    <Laptop model=\"2001\" price=\"3673\">\n",
    "      <Speed>2.00</Speed>\n",
    "      <RAM>2048</RAM>\n",
    "      <HardDisk>240</HardDisk>\n",
    "      <Screen>20.1</Screen>\n",
    "    </Laptop>\n",
    "    <Printer model=\"3002\" price=\"239\">\n",
    "      <Color>false</Color>\n",
    "      <Type>laser</Type>\n",
    "    </Printer>\n",
    "  </Maker>\n",
    "  <Maker name=\"H\">\n",
    "    <Printer model=\"3006\" price=\"100\">\n",
    "      <Color>true</Color>\n",
    "      <Type>ink-jet</Type>\n",
    "    </Printer>\n",
    "    <Printer model=\"3007\" price=\"200\">\n",
    "      <Color>true</Color>\n",
    "      <Type>laser</Type>\n",
    "    </Printer>\n",
    "  </Maker>\n",
    "</Products>\n",
    "\"\"\""
   ]
  },
  {
   "cell_type": "code",
   "execution_count": 3,
   "metadata": {},
   "outputs": [],
   "source": [
    "products = etree.XML(products_text)\n",
    "\n",
    "with open(\"/tmp/products.xml\",\"w\") as f:\n",
    "    f.write(products_text)"
   ]
  },
  {
   "cell_type": "markdown",
   "metadata": {},
   "source": [
    "## 1) XPath [ 45 points total ] \n",
    "\n",
    "To do the XPath homework, you'll need to use the Product XML file."
   ]
  },
  {
   "cell_type": "markdown",
   "metadata": {},
   "source": [
    "#### 1a) Find the amount of RAM on each PC [ 5 pts ]\n",
    "\n",
    "Your output should look like `['1024', '512', '2048', '1024']`"
   ]
  },
  {
   "cell_type": "code",
   "execution_count": 4,
   "metadata": {},
   "outputs": [
    {
     "data": {
      "text/plain": [
       "['1024', '512', '2048', '1024']"
      ]
     },
     "execution_count": 4,
     "metadata": {},
     "output_type": "execute_result"
    }
   ],
   "source": [
    "### BEGIN SOLUTION\n",
    "products.xpath('/Products/Maker/PC/RAM/text()')\n",
    "### END SOLUTION"
   ]
  },
  {
   "cell_type": "markdown",
   "metadata": {},
   "source": [
    "#### 1b) Find the price of each product of any kind. [ 5 pts ]\n",
    "\n",
    "Your solution doesn't need to restrict itself to a PC or Printer -- it should report the price of *any* product."
   ]
  },
  {
   "cell_type": "code",
   "execution_count": 5,
   "metadata": {},
   "outputs": [
    {
     "data": {
      "text/plain": [
       "['2114', '995', '1150', '2500', '959', '649', '3673', '239', '100', '200']"
      ]
     },
     "execution_count": 5,
     "metadata": {},
     "output_type": "execute_result"
    }
   ],
   "source": [
    "### BEGIN SOLUTION\n",
    "products.xpath('/Products/Maker/PC/@price | /Products/Maker/Laptop/@price | /Products/Maker/Printer/@price')\n",
    "### END SOLUTION"
   ]
  },
  {
   "cell_type": "markdown",
   "metadata": {},
   "source": [
    "#### 1c) Find the text of all the printer elements. [5 pts ]\n",
    "\n",
    "This should reduce the text of each element within a **Printer** element (e.g. 'false', 'laser', *etc*)"
   ]
  },
  {
   "cell_type": "code",
   "execution_count": 6,
   "metadata": {},
   "outputs": [
    {
     "data": {
      "text/plain": [
       "['false', 'laser', 'true', 'ink-jet', 'true', 'laser']"
      ]
     },
     "execution_count": 6,
     "metadata": {},
     "output_type": "execute_result"
    }
   ],
   "source": [
    "### BEGIN SOLUTION\n",
    "products.xpath('/Products/Maker/Printer/Color/text() | /Products/Maker/Printer/Type/text()')\n",
    "### END SOLUTION"
   ]
  },
  {
   "cell_type": "markdown",
   "metadata": {},
   "source": [
    "#### 1d) Find the makers of laser printers. [ 5 pts ]\n",
    "\n",
    "There are two makers of printers, 'E' and 'H'"
   ]
  },
  {
   "cell_type": "code",
   "execution_count": 7,
   "metadata": {},
   "outputs": [
    {
     "data": {
      "text/plain": [
       "['E', 'H']"
      ]
     },
     "execution_count": 7,
     "metadata": {},
     "output_type": "execute_result"
    }
   ],
   "source": [
    "### BEGIN SOLUTION\n",
    "products.xpath('/Products/Maker[Printer]/@name')\n",
    "### END SOLUTION"
   ]
  },
  {
   "cell_type": "markdown",
   "metadata": {},
   "source": [
    "#### 1e) Find the makers of PC’s and/or laptops. [ 5 pts ]\n",
    "\n",
    "There are two makers of PC and Laptops. Although your query could check for just one of PC or Laptop and be correct, you must construct your query to work even if one Maker only makes one or the other kind of product."
   ]
  },
  {
   "cell_type": "code",
   "execution_count": 8,
   "metadata": {},
   "outputs": [
    {
     "data": {
      "text/plain": [
       "['A', 'E']"
      ]
     },
     "execution_count": 8,
     "metadata": {},
     "output_type": "execute_result"
    }
   ],
   "source": [
    "### BEGIN SOLUTION\n",
    "products.xpath('/Products/Maker[PC]/@name | /Products/Maker[Laptop]/@name')\n",
    "### END SOLUTION"
   ]
  },
  {
   "cell_type": "markdown",
   "metadata": {},
   "source": [
    "#### 1f) Find the model numbers of PC’s with a hard disk of at least 200 gigabytes [ 10 pts ]"
   ]
  },
  {
   "cell_type": "code",
   "execution_count": 9,
   "metadata": {},
   "outputs": [
    {
     "data": {
      "text/plain": [
       "['1001', '1002']"
      ]
     },
     "execution_count": 9,
     "metadata": {},
     "output_type": "execute_result"
    }
   ],
   "source": [
    "### BEGIN SOLUTION\n",
    "products.xpath('/Products/Maker/PC[HardDisk>=200]/@model')\n",
    "### END SOLUTION"
   ]
  },
  {
   "cell_type": "markdown",
   "metadata": {},
   "source": [
    "#### 1g) Find the makers that make at least two PC's [ 10 pts ]\n",
    "\n",
    "This means that there are two PC's that are *siblings* in the element tree."
   ]
  },
  {
   "cell_type": "code",
   "execution_count": 10,
   "metadata": {},
   "outputs": [
    {
     "data": {
      "text/plain": [
       "['A', 'E']"
      ]
     },
     "execution_count": 10,
     "metadata": {},
     "output_type": "execute_result"
    }
   ],
   "source": [
    "### BEGIN SOLUTION\n",
    "products.xpath(\"/Products/Maker[count(PC)>=2]/@name\")\n",
    "### END SOLUTION"
   ]
  },
  {
   "cell_type": "markdown",
   "metadata": {},
   "source": [
    "## XQuery [ 45 Pts Total ]\n",
    "\n",
    "As mentioned, we need a completely different library and interface for XQuery and the [Python Binding for that library](https://pypi.org/project/python-simplexquery/) is not very robust.\n",
    "\n",
    "So, we're using to use the command line tool \"[xqilla](http://xqilla.sourceforge.net/HomePage)\" to run our queries.\n",
    "\n",
    "Let's use an [XQuery tutorial](https://www.w3schools.com/xml/xquery_intro.asp) that appears at the W3Schools website. That tutorial uses a **books.xml** dataset. As before, we'll include here as a string so you can see dataset."
   ]
  },
  {
   "cell_type": "markdown",
   "metadata": {},
   "source": [
    "#### 2a) Find the Printers models with a price less than 1000. [ 5 pts ]\n",
    "\n",
    "Your output should look like `['3002', '3006', '3007']`"
   ]
  },
  {
   "cell_type": "code",
   "execution_count": 11,
   "metadata": {},
   "outputs": [
    {
     "data": {
      "text/plain": [
       "['3002', '3006', '3007']"
      ]
     },
     "execution_count": 11,
     "metadata": {},
     "output_type": "execute_result"
    }
   ],
   "source": [
    "### BEGIN SOLUTION\n",
    "with open(\"/tmp/query.xq\",\"w\") as q:\n",
    "    q.write('''\\\n",
    "for $x in doc(\"/tmp/products.xml\")/Products/Maker/Printer\n",
    "where $x[@price<1000]\n",
    "return data($x/@model)\n",
    "''')\n",
    "### END SOLUTION\n",
    "%system xqilla /tmp/query.xq"
   ]
  },
  {
   "cell_type": "markdown",
   "metadata": {},
   "source": [
    "#### 2b) Find the Printer...[ 5 pts ]\n",
    "\n",
    "Find the Printer elements with a price <=200, and produce the sequence of the elements of these printers surrounded by a tag `<CheapPrinters>`\n",
    "\n",
    "Your output should look like\n",
    "```\n",
    "['<CheapPrinters><Printer model=\"3006\" price=\"100\">',\n",
    " '      <Color>true</Color>',\n",
    " '      <Type>ink-jet</Type>',\n",
    " '    </Printer><Printer model=\"3007\" price=\"200\">',\n",
    " '      <Color>true</Color>',\n",
    " '      <Type>laser</Type>',\n",
    " '    </Printer></CheapPrinters>']\n",
    " ```"
   ]
  },
  {
   "cell_type": "code",
   "execution_count": 12,
   "metadata": {},
   "outputs": [
    {
     "data": {
      "text/plain": [
       "['<CheapPrinters><Printer model=\"3006\" price=\"100\">',\n",
       " '      <Color>true</Color>',\n",
       " '      <Type>ink-jet</Type>',\n",
       " '    </Printer></CheapPrinters>',\n",
       " '<CheapPrinters><Printer model=\"3007\" price=\"200\">',\n",
       " '      <Color>true</Color>',\n",
       " '      <Type>laser</Type>',\n",
       " '    </Printer></CheapPrinters>']"
      ]
     },
     "execution_count": 12,
     "metadata": {},
     "output_type": "execute_result"
    }
   ],
   "source": [
    "### BEGIN SOLUTION\n",
    "with open(\"/tmp/query.xq\",\"w\") as q:\n",
    "    q.write('''\\\n",
    "for $x in doc(\"/tmp/products.xml\")/Products/Maker/Printer\n",
    "where $x[@price<=200]\n",
    "order by $x[@price]\n",
    "return <CheapPrinters>{$x}</CheapPrinters>\n",
    "''')\n",
    "### END SOLUTION\n",
    "%system xqilla /tmp/query.xq"
   ]
  },
  {
   "cell_type": "markdown",
   "metadata": {},
   "source": [
    "#### 2c) Find the names of the makers of both printers and laptops. [ 5 pts ]\n",
    "\n",
    "You may want to read about quantification in XQuery"
   ]
  },
  {
   "cell_type": "code",
   "execution_count": 13,
   "metadata": {},
   "outputs": [
    {
     "data": {
      "text/plain": [
       "['E']"
      ]
     },
     "execution_count": 13,
     "metadata": {},
     "output_type": "execute_result"
    }
   ],
   "source": [
    "### BEGIN SOLUTION\n",
    "with open(\"/tmp/query.xq\",\"w\") as q:\n",
    "    q.write('''\\\n",
    "for $x in doc(\"/tmp/products.xml\")/Products/Maker\n",
    "where $x[Printer and Laptop]\n",
    "return data($x/@name)\n",
    "''')\n",
    "### END SOLUTION\n",
    "%system xqilla /tmp/query.xq"
   ]
  },
  {
   "cell_type": "markdown",
   "metadata": {},
   "source": [
    "#### 2d) Find the names of the makers that produce at least two PC’s with a speed of 2.00 or more. [ 10 pts ]\n",
    "\n",
    "There's only one such maker (`A`). This problem exercises the Axes."
   ]
  },
  {
   "cell_type": "code",
   "execution_count": 14,
   "metadata": {},
   "outputs": [
    {
     "data": {
      "text/plain": [
       "['A']"
      ]
     },
     "execution_count": 14,
     "metadata": {},
     "output_type": "execute_result"
    }
   ],
   "source": [
    "### BEGIN SOLUTION\n",
    "with open(\"/tmp/query.xq\",\"w\") as q:\n",
    "    q.write('''\\\n",
    "for $x in doc(\"/tmp/products.xml\")/Products/Maker\n",
    "where count($x/PC[Speed>=2])>=2\n",
    "return data($x/@name)\n",
    "''')\n",
    "### END SOLUTION\n",
    "%system xqilla /tmp/query.xq"
   ]
  },
  {
   "cell_type": "markdown",
   "metadata": {},
   "source": [
    "#### 2e) Find the makers such that every PC they produce has a price no more than 1000. [ 10 pts ]\n",
    "\n",
    "Note that a maker that does not make PC's might statisfy a constraint that every PC make by that maker is less than $1000...."
   ]
  },
  {
   "cell_type": "code",
   "execution_count": 15,
   "metadata": {},
   "outputs": [
    {
     "data": {
      "text/plain": [
       "['E']"
      ]
     },
     "execution_count": 15,
     "metadata": {},
     "output_type": "execute_result"
    }
   ],
   "source": [
    "### BEGIN SOLUTION\n",
    "with open(\"/tmp/query.xq\",\"w\") as q:\n",
    "    q.write('''\\\n",
    "for $x in doc(\"/tmp/products.xml\")/Products/Maker\n",
    "where $x/PC and not($x/PC[@price>=1000])\n",
    "return data($x/@name)\n",
    "''')\n",
    "### END SOLUTION\n",
    "%system xqilla /tmp/query.xq"
   ]
  },
  {
   "cell_type": "markdown",
   "metadata": {},
   "source": [
    "#### 2f) Produce a sequence of elements of the form.. [ 10 pts ]\n",
    "\n",
    "`<Laptop> <Model>x</Model> <Maker>y</Maker> </Laptop>`\n",
    "where x is the model number and y is the name of the maker of the laptop.\n",
    "\n",
    "Your output should look like\n",
    "```\n",
    "['<Laptop><Model>2004</Model><Maker>A</Maker></Laptop>',\n",
    " '<Laptop><Model>2005</Model><Maker>A</Maker></Laptop>',\n",
    " '<Laptop><Model>2001</Model><Maker>E</Maker></Laptop>']\n",
    "```"
   ]
  },
  {
   "cell_type": "code",
   "execution_count": 16,
   "metadata": {},
   "outputs": [
    {
     "data": {
      "text/plain": [
       "['<Laptop><Model>2004</Model><Maker>A</Maker></Laptop>',\n",
       " '<Laptop><Model>2005</Model><Maker>A</Maker></Laptop>',\n",
       " '<Laptop><Model>2001</Model><Maker>E</Maker></Laptop>']"
      ]
     },
     "execution_count": 16,
     "metadata": {},
     "output_type": "execute_result"
    }
   ],
   "source": [
    "### BEGIN SOLUTION ### DOUBLE CHECK MAKERS AAE\n",
    "with open(\"/tmp/query.xq\",\"w\") as q:\n",
    "    q.write('''\\\n",
    "for $x in doc(\"/tmp/products.xml\")/Products//Laptop\n",
    "return\n",
    "<Laptop>\n",
    "<Model>\n",
    "{data($x/@model)}\n",
    "</Model>\n",
    "<Maker>\n",
    "{data($x/../@name)}\n",
    "</Maker>\n",
    "</Laptop>\n",
    "''')\n",
    "### END SOLUTION\n",
    "%system xqilla /tmp/query.xq"
   ]
  },
  {
   "cell_type": "markdown",
   "metadata": {},
   "source": [
    "## XSLT [ 10 pts total ]\n",
    "\n",
    "You'll use LXML to perform the XSLT transformations. Most of the problems will ask you to present e.g. an HTML table. Rather than just look at the HTML, we'll use some Jupyter notebook tricks to enable us to display formatted HTML."
   ]
  },
  {
   "cell_type": "code",
   "execution_count": 17,
   "metadata": {},
   "outputs": [],
   "source": [
    "from IPython.core.display import display, HTML"
   ]
  },
  {
   "cell_type": "code",
   "execution_count": 18,
   "metadata": {},
   "outputs": [
    {
     "data": {
      "text/html": [
       "<table> \n",
       "             <tr> <th> A Table </th> <th> w/2 headers </th> </tr>\n",
       "             <tr> <td> Some Data </td> <td> More Data </td> </tr>\n",
       "             </table>"
      ],
      "text/plain": [
       "<IPython.core.display.HTML object>"
      ]
     },
     "metadata": {},
     "output_type": "display_data"
    }
   ],
   "source": [
    "table_data = '''<table> \n",
    "             <tr> <th> A Table </th> <th> w/2 headers </th> </tr>\n",
    "             <tr> <td> Some Data </td> <td> More Data </td> </tr>\n",
    "             </table>'''\n",
    "display(HTML(table_data))"
   ]
  },
  {
   "cell_type": "markdown",
   "metadata": {},
   "source": [
    "### 3a) An HTML Table [ 5 pts ]\n",
    "\n",
    "The table should have a header “Manufacturers” followed by an enumerated list of the names of all the makers of products listed in the input."
   ]
  },
  {
   "cell_type": "code",
   "execution_count": 19,
   "metadata": {},
   "outputs": [
    {
     "data": {
      "text/html": [
       "<table border=\"5\"><tr><th>Manufacturers</th></tr><tr><td>1. A</td></tr><tr><td>2. E</td></tr><tr><td>3. H</td></tr></table>"
      ],
      "text/plain": [
       "<IPython.core.display.HTML object>"
      ]
     },
     "metadata": {},
     "output_type": "display_data"
    }
   ],
   "source": [
    "### BEGIN SOLUTION\n",
    "p3a_xslt = etree.XML('''\\\n",
    "<xsl:stylesheet xmlns:xsl = \"http://www.w3.org/1999/XSL/Transform\">\n",
    "<xsl:output method=\"text\"/>\n",
    "    <xsl:template match=\"Products\">\n",
    "        <table border=\"5\">\n",
    "            <tr><th>Manufacturers</th></tr>\n",
    "            <xsl:for-each select=\"Maker\">\n",
    "                <tr><td>\n",
    "                <xsl:number count=\"Maker\" level=\"any\" format=\"1. \"/>\n",
    "                <xsl:value-of select = \"@name\" />\n",
    "                </td></tr>\n",
    "            </xsl:for-each>            \n",
    "        </table>\n",
    "    </xsl:template>\n",
    "</xsl:stylesheet>\n",
    "''')\n",
    "### END SOLUTION\n",
    "p3a_xform = etree.XSLT(p3a_xslt)\n",
    "p3a_out = p3a_xform(products)\n",
    "\n",
    "#print(\"Output is\", etree.tostring(p3a_out, encoding=str))\n",
    "display(HTML(etree.tostring(p3a_out, encoding=str)))"
   ]
  },
  {
   "cell_type": "markdown",
   "metadata": {},
   "source": [
    "### 3b) An HTML table [ 5 pts ]\n",
    "\n",
    "The table should include a row labeled Laptops, then print the model and price for each laptop. After that, it should print a row labeled PC and the model and price for each.\n",
    "\n",
    "Your output should look like the following, but in HTML.\n",
    "\n",
    "```\n",
    "Laptops\n",
    "Model\tPrice\n",
    "2004\t1150\n",
    "2005\t2500\n",
    "2001\t3673\n",
    "PC\n",
    "Model\tPrice\n",
    "1001\t2114\n",
    "1002\t995\n",
    "1011\t959\n",
    "1012\t649\n",
    "```\n"
   ]
  },
  {
   "cell_type": "code",
   "execution_count": 20,
   "metadata": {},
   "outputs": [
    {
     "data": {
      "text/html": [
       "<html><body><h2>Laptops</h2><table border=\"5\"><th>Model</th><th>Price</th><tr><td>2004</td><td>1150</td></tr><tr><td>2005</td><td>2500</td></tr><tr><td>2001</td><td>3673</td></tr></table><h2>PC</h2><table border=\"5\"><th>Model</th><th>Price</th><tr><td>1001</td><td>2114</td></tr><tr><td>1002</td><td>995</td></tr><tr><td>1011</td><td>959</td></tr><tr><td>1012</td><td>649</td></tr></table></body></html>"
      ],
      "text/plain": [
       "<IPython.core.display.HTML object>"
      ]
     },
     "metadata": {},
     "output_type": "display_data"
    }
   ],
   "source": [
    "### BEGIN SOLUTION\n",
    "p3a_xslt = etree.XML('''\\\n",
    "<xsl:stylesheet xmlns:xsl = \"http://www.w3.org/1999/XSL/Transform\">\n",
    "<xsl:output method=\"text\"/>\n",
    "    <xsl:template match=\"Products\">\n",
    "    <html>\n",
    "    <body>\n",
    "        <h2>Laptops</h2>\n",
    "        <table border=\"5\">\n",
    "            <th>Model</th>\n",
    "            <th>Price</th>\n",
    "            <xsl:for-each select=\"Maker/Laptop\">\n",
    "            <tr>\n",
    "                <td><xsl:value-of select = \"@model\"/></td>\n",
    "                <td><xsl:value-of select = \"@price\"/></td>\n",
    "            </tr>\n",
    "            </xsl:for-each>\n",
    "        </table>\n",
    "        <h2>PC</h2>\n",
    "        <table border=\"5\">\n",
    "            <th>Model</th>\n",
    "            <th>Price</th>\n",
    "            <xsl:for-each select=\"Maker/PC\">\n",
    "            <tr>\n",
    "                <td><xsl:value-of select = \"@model\"/></td>\n",
    "                <td><xsl:value-of select = \"@price\"/></td>\n",
    "            </tr>\n",
    "            </xsl:for-each>\n",
    "        </table>\n",
    "    </body>\n",
    "    </html>\n",
    "    </xsl:template>\n",
    "</xsl:stylesheet>\n",
    "''')\n",
    "### END SOLUTION\n",
    "p3a_xform = etree.XSLT(p3a_xslt)\n",
    "p3a_out = p3a_xform(products)\n",
    "\n",
    "#print(\"Output is\", etree.tostring(p3a_out, encoding=str))\n",
    "display(HTML(etree.tostring(p3a_out, encoding=str)))"
   ]
  },
  {
   "cell_type": "code",
   "execution_count": null,
   "metadata": {},
   "outputs": [],
   "source": []
  }
 ],
 "metadata": {
  "kernelspec": {
   "display_name": "Python 3 (ipykernel)",
   "language": "python",
   "name": "python3"
  },
  "language_info": {
   "codemirror_mode": {
    "name": "ipython",
    "version": 3
   },
   "file_extension": ".py",
   "mimetype": "text/x-python",
   "name": "python",
   "nbconvert_exporter": "python",
   "pygments_lexer": "ipython3",
   "version": "3.9.6"
  }
 },
 "nbformat": 4,
 "nbformat_minor": 4
}
